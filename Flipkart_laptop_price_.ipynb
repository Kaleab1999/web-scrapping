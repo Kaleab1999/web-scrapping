{
  "nbformat": 4,
  "nbformat_minor": 0,
  "metadata": {
    "colab": {
      "name": "Flipkart laptop price .ipynb",
      "provenance": [],
      "authorship_tag": "ABX9TyOyFp91XJNlpyRc/4XDV/xZ",
      "include_colab_link": true
    },
    "kernelspec": {
      "name": "python3",
      "display_name": "Python 3"
    },
    "language_info": {
      "name": "python"
    }
  },
  "cells": [
    {
      "cell_type": "markdown",
      "metadata": {
        "id": "view-in-github",
        "colab_type": "text"
      },
      "source": [
        "<a href=\"https://colab.research.google.com/github/Kaleab1999/web-scrapping/blob/main/Flipkart_laptop_price_.ipynb\" target=\"_parent\"><img src=\"https://colab.research.google.com/assets/colab-badge.svg\" alt=\"Open In Colab\"/></a>"
      ]
    },
    {
      "cell_type": "markdown",
      "source": [
        "## Web scraping"
      ],
      "metadata": {
        "id": "P1TNLJrq2T8J"
      }
    },
    {
      "cell_type": "markdown",
      "source": [
        "The aim of this work is:\n",
        "1. scrape price of laptop from flipkart sites\n",
        "2. transformation on the data\n",
        "3. save the scraped data to csv files"
      ],
      "metadata": {
        "id": "6AbnY5p-6FQH"
      }
    },
    {
      "cell_type": "markdown",
      "source": [
        "Web scraping is method to get data from websites. Scraping publicly available information on the web in an automated way is legal as long as the scraped data is not used for any harmful purpose or directly attacking the scraped website's business or operations."
      ],
      "metadata": {
        "id": "RJksulbL2XrJ"
      }
    },
    {
      "cell_type": "markdown",
      "source": [
        "If the website hasn't API, but they allow to scrape data."
      ],
      "metadata": {
        "id": "lkdwsZW32mrO"
      }
    },
    {
      "cell_type": "markdown",
      "source": [
        "why data scraping?\n",
        "\n",
        "\n",
        "*   Competitive Analysis\n",
        "*   Lead generation\n",
        "*   Brand Monitoring\n",
        "*   Social Media Scraping\n",
        "*   Research and Development\n",
        "*   Extracting Financial Statement\n",
        "*   Contact Information Accessibility\n",
        "\n",
        "\n",
        "\n",
        "\n",
        "\n",
        "\n",
        "\n",
        "\n",
        "\n",
        "\n"
      ],
      "metadata": {
        "id": "cC0tG-dY3oRz"
      }
    },
    {
      "cell_type": "markdown",
      "source": [
        "there are many libraries for scraping data.\n",
        "1. BeautifulSoup\n",
        "2. Scrapy\n",
        "3. AutoScraper"
      ],
      "metadata": {
        "id": "zaJhzVcj338D"
      }
    },
    {
      "cell_type": "markdown",
      "source": [
        "here, I use BeautifulSoup.\n"
      ],
      "metadata": {
        "id": "eBj8YE2f4dIt"
      }
    },
    {
      "cell_type": "markdown",
      "source": [
        "Using requests library, we can fetch the content from the URL given and beautiful soup library helps to parse it and fetch the details the way we want."
      ],
      "metadata": {
        "id": "63-Ck6ci46SC"
      }
    },
    {
      "cell_type": "markdown",
      "source": [
        "import beautifulsoup and request.\n"
      ],
      "metadata": {
        "id": "Gux4oRUg5ZH9"
      }
    },
    {
      "cell_type": "code",
      "source": [
        "import requests\n",
        "from bs4 import BeautifulSoup\n",
        "import pandas as pd\n",
        "import numpy as np\n"
      ],
      "metadata": {
        "id": "7AZ3XnDL4D8X"
      },
      "execution_count": 1,
      "outputs": []
    },
    {
      "cell_type": "markdown",
      "source": [
        "the requests library needs the URL of the website.\n",
        "\n",
        "the url is: https://www.flipkart.com/search?q=laptop&sid=6bo%2Cb5g&as=on&as-show=on&otracker=AS_QueryStore_OrganicAutoSuggest_1_6_na_na_na&otracker1=AS_QueryStore_OrganicAutoSuggest_1_6_na_na_na&as-pos=1&as-type=RECENT&suggestionId=laptop%7CLaptops&requestId=2fd6f432-1a46-4bb2-a2d7-9104f6b46cde&as-searchtext=laptop"
      ],
      "metadata": {
        "id": "M2yEzy7o6lSi"
      }
    },
    {
      "cell_type": "code",
      "source": [
        "req= requests.get('https://www.flipkart.com/search?q=laptop&sid=6bo%2Cb5g&as=on&as-show=on&otracker=AS_QueryStore_OrganicAutoSuggest_1_6_na_na_na&otracker1=AS_QueryStore_OrganicAutoSuggest_1_6_na_na_na&as-pos=1&as-type=RECENT&suggestionId=laptop%7CLaptops&requestId=2fd6f432-1a46-4bb2-a2d7-9104f6b46cde&as-searchtext=laptop')"
      ],
      "metadata": {
        "id": "R0WgvcHz6kgh"
      },
      "execution_count": 2,
      "outputs": []
    },
    {
      "cell_type": "markdown",
      "source": [
        "Beautifull library needs two parameters: the requests object and the data structure of the web. \n",
        "\n",
        "the data structure of the web means like HTML,XML,..."
      ],
      "metadata": {
        "id": "1yGbWO1v7H78"
      }
    },
    {
      "cell_type": "code",
      "source": [
        "soup=BeautifulSoup(req.content,'html.parser')"
      ],
      "metadata": {
        "id": "neEDa0ez7cZz"
      },
      "execution_count": 4,
      "outputs": []
    },
    {
      "cell_type": "code",
      "source": [
        "soup.title"
      ],
      "metadata": {
        "colab": {
          "base_uri": "https://localhost:8080/"
        },
        "id": "6rr1SWw77ozK",
        "outputId": "f95b8cac-b3ad-47ad-fccc-461cf1aa3cc3"
      },
      "execution_count": 5,
      "outputs": [
        {
          "output_type": "execute_result",
          "data": {
            "text/plain": [
              "<title>Laptop- Buy Products Online at Best Price in India - All Categories | Flipkart.com</title>"
            ]
          },
          "metadata": {},
          "execution_count": 5
        }
      ]
    },
    {
      "cell_type": "markdown",
      "source": [
        "to extract the product name.\n",
        "1. click inspect elements on the webpage\n",
        "2. copy the div class name.\n",
        "\n",
        "  elements       class name\n",
        "*. product_name=_4rR01T\n",
        "*. rating= gUuXy-\n",
        "*. price: _30jeq3 _1_WHN1\n",
        "\n"
      ],
      "metadata": {
        "id": "7YtfXhRIAH_0"
      }
    },
    {
      "cell_type": "code",
      "source": [
        "name=soup.find('div',class_='_4rR01T')"
      ],
      "metadata": {
        "id": "PrnE5sOhALy4"
      },
      "execution_count": 7,
      "outputs": []
    },
    {
      "cell_type": "code",
      "source": [
        "name.text"
      ],
      "metadata": {
        "colab": {
          "base_uri": "https://localhost:8080/",
          "height": 35
        },
        "id": "WF4_m91wAgY6",
        "outputId": "dbb04c4c-5e13-403b-e50b-ca013a88d00f"
      },
      "execution_count": 8,
      "outputs": [
        {
          "output_type": "execute_result",
          "data": {
            "text/plain": [
              "'DELL Inspiron Ryzen 3 Dual Core 3250U - (8 GB/256 GB SSD/Windows 11 Home) INSPIRON 3515 Thin and Light...'"
            ],
            "application/vnd.google.colaboratory.intrinsic+json": {
              "type": "string"
            }
          },
          "metadata": {},
          "execution_count": 8
        }
      ]
    },
    {
      "cell_type": "code",
      "source": [
        "rating=soup.find('div',class_='_3LWZlK')"
      ],
      "metadata": {
        "id": "7wg69mS2JWTT"
      },
      "execution_count": 9,
      "outputs": []
    },
    {
      "cell_type": "code",
      "source": [
        "rating.text"
      ],
      "metadata": {
        "colab": {
          "base_uri": "https://localhost:8080/",
          "height": 35
        },
        "id": "_W0t9DhBJdMx",
        "outputId": "8d61fbbe-07cb-45d2-e2d5-3f67a4761a48"
      },
      "execution_count": 10,
      "outputs": [
        {
          "output_type": "execute_result",
          "data": {
            "text/plain": [
              "'4.2'"
            ],
            "application/vnd.google.colaboratory.intrinsic+json": {
              "type": "string"
            }
          },
          "metadata": {},
          "execution_count": 10
        }
      ]
    },
    {
      "cell_type": "code",
      "source": [
        "price=soup.find('div',class_='_30jeq3 _1_WHN1')"
      ],
      "metadata": {
        "id": "C3GyMWoVKA8h"
      },
      "execution_count": 11,
      "outputs": []
    },
    {
      "cell_type": "code",
      "source": [
        "price.text"
      ],
      "metadata": {
        "colab": {
          "base_uri": "https://localhost:8080/",
          "height": 35
        },
        "id": "u7VIeU2KKHB2",
        "outputId": "2ee40660-dcab-4343-bc64-391cbed77220"
      },
      "execution_count": 12,
      "outputs": [
        {
          "output_type": "execute_result",
          "data": {
            "text/plain": [
              "'₹31,990'"
            ],
            "application/vnd.google.colaboratory.intrinsic+json": {
              "type": "string"
            }
          },
          "metadata": {},
          "execution_count": 12
        }
      ]
    },
    {
      "cell_type": "code",
      "source": [
        "deliver_type=soup.find('div',class_='_3tcB5a p8ucoS')"
      ],
      "metadata": {
        "id": "BBe8CHHBMQLq"
      },
      "execution_count": 13,
      "outputs": []
    },
    {
      "cell_type": "code",
      "source": [
        "deliver_type.text"
      ],
      "metadata": {
        "colab": {
          "base_uri": "https://localhost:8080/",
          "height": 35
        },
        "id": "llnEIKmzMWRd",
        "outputId": "f4f18f98-42ab-46bc-e72d-6c5927ed09c6"
      },
      "execution_count": 14,
      "outputs": [
        {
          "output_type": "execute_result",
          "data": {
            "text/plain": [
              "'Free delivery'"
            ],
            "application/vnd.google.colaboratory.intrinsic+json": {
              "type": "string"
            }
          },
          "metadata": {},
          "execution_count": 14
        }
      ]
    },
    {
      "cell_type": "markdown",
      "source": [
        "creating empty list to store the extracted data."
      ],
      "metadata": {
        "id": "8ZMB62WkBN0z"
      }
    },
    {
      "cell_type": "code",
      "source": [
        "names=[]\n",
        "prices=[]\n",
        "ratings=[]\n",
        "deliveries=[]"
      ],
      "metadata": {
        "id": "OkCZR9slAAST"
      },
      "execution_count": 17,
      "outputs": []
    },
    {
      "cell_type": "markdown",
      "source": [
        "extracting all important data."
      ],
      "metadata": {
        "id": "HcBwpl5GBViB"
      }
    },
    {
      "cell_type": "code",
      "source": [
        "for data in soup.findAll('div',class_='_3pLy-c row'):\n",
        "        name=soup.find('div', attrs={'class':'_4rR01T'})\n",
        "        price=soup.find('div', attrs={'class':'_30jeq3 _1_WHN1'})\n",
        "        rating=soup.find('div', attrs={'class':'_3LWZlK'})\n",
        "        delivery = soup.find('div', attrs={'class':'_3tcB5a p8ucoS'})\n",
        "\n",
        "        names.append(name.text)\n",
        "        prices.append(price.text)\n",
        "        ratings.append(rating.text)\n",
        "        deliveries.append(delivery.text)\n"
      ],
      "metadata": {
        "id": "9sdJVs9v_okv"
      },
      "execution_count": 20,
      "outputs": []
    },
    {
      "cell_type": "markdown",
      "source": [
        "Changing the list to dataframe.\n",
        "\n",
        " Data frame is a two-dimensional data structure, i.e., data is aligned in a tabular fashion in rows and columns."
      ],
      "metadata": {
        "id": "-7FfLSQ3BuTD"
      }
    },
    {
      "cell_type": "code",
      "source": [
        "df=pd.DataFrame({'Product Name':names,'rating':ratings,'price':prices,'mode of delivery':deliveries})\n",
        "df.head(10)"
      ],
      "metadata": {
        "colab": {
          "base_uri": "https://localhost:8080/",
          "height": 363
        },
        "id": "NPs9OGhyA0nV",
        "outputId": "a71cdcd8-6d63-43ae-f877-bf63dc907488"
      },
      "execution_count": 21,
      "outputs": [
        {
          "output_type": "execute_result",
          "data": {
            "text/plain": [
              "                                        Product Name rating    price  \\\n",
              "0  DELL Inspiron Ryzen 3 Dual Core 3250U - (8 GB/...    4.2  ₹31,990   \n",
              "1  DELL Vostro Ryzen 3 Dual Core R3-3250U - (8 GB...    3.8  ₹29,990   \n",
              "2  Lenovo IdeaPad 3 Core i3 10th Gen - (8 GB/256 ...    4.3  ₹33,490   \n",
              "3  Lenovo IdeaPad 3 Core i3 11th Gen - (8 GB/512 ...    4.3  ₹38,250   \n",
              "4  MSI Core i3 10th Gen - (8 GB/512 GB SSD/Window...    4.4  ₹31,990   \n",
              "5  ASUS VivoBook 15 (2021) Core i5 10th Gen - (8 ...    4.2  ₹45,990   \n",
              "6  DELL Inspiron Athlon Dual Core 3050U - (8 GB/2...    4.2  ₹29,990   \n",
              "7  DELL Inspiron Ryzen 5 Hexa Core R5-5500U - (8 ...    4.9  ₹66,490   \n",
              "8  ASUS VivoBook 15 (2022) Core i3 10th Gen - (8 ...    4.3  ₹35,990   \n",
              "9  HP Core i3 11th Gen - (8 GB/256 GB SSD/Windows...    4.3  ₹37,990   \n",
              "\n",
              "  mode of delivery  \n",
              "0    Free delivery  \n",
              "1    Free delivery  \n",
              "2    Free delivery  \n",
              "3    Free delivery  \n",
              "4    Free delivery  \n",
              "5    Free delivery  \n",
              "6    Free delivery  \n",
              "7    Free delivery  \n",
              "8    Free delivery  \n",
              "9    Free delivery  "
            ],
            "text/html": [
              "\n",
              "  <div id=\"df-c10c2a63-006b-401d-904d-6f5b3d14f9a0\">\n",
              "    <div class=\"colab-df-container\">\n",
              "      <div>\n",
              "<style scoped>\n",
              "    .dataframe tbody tr th:only-of-type {\n",
              "        vertical-align: middle;\n",
              "    }\n",
              "\n",
              "    .dataframe tbody tr th {\n",
              "        vertical-align: top;\n",
              "    }\n",
              "\n",
              "    .dataframe thead th {\n",
              "        text-align: right;\n",
              "    }\n",
              "</style>\n",
              "<table border=\"1\" class=\"dataframe\">\n",
              "  <thead>\n",
              "    <tr style=\"text-align: right;\">\n",
              "      <th></th>\n",
              "      <th>Product Name</th>\n",
              "      <th>rating</th>\n",
              "      <th>price</th>\n",
              "      <th>mode of delivery</th>\n",
              "    </tr>\n",
              "  </thead>\n",
              "  <tbody>\n",
              "    <tr>\n",
              "      <th>0</th>\n",
              "      <td>DELL Inspiron Ryzen 3 Dual Core 3250U - (8 GB/...</td>\n",
              "      <td>4.2</td>\n",
              "      <td>₹31,990</td>\n",
              "      <td>Free delivery</td>\n",
              "    </tr>\n",
              "    <tr>\n",
              "      <th>1</th>\n",
              "      <td>DELL Vostro Ryzen 3 Dual Core R3-3250U - (8 GB...</td>\n",
              "      <td>3.8</td>\n",
              "      <td>₹29,990</td>\n",
              "      <td>Free delivery</td>\n",
              "    </tr>\n",
              "    <tr>\n",
              "      <th>2</th>\n",
              "      <td>Lenovo IdeaPad 3 Core i3 10th Gen - (8 GB/256 ...</td>\n",
              "      <td>4.3</td>\n",
              "      <td>₹33,490</td>\n",
              "      <td>Free delivery</td>\n",
              "    </tr>\n",
              "    <tr>\n",
              "      <th>3</th>\n",
              "      <td>Lenovo IdeaPad 3 Core i3 11th Gen - (8 GB/512 ...</td>\n",
              "      <td>4.3</td>\n",
              "      <td>₹38,250</td>\n",
              "      <td>Free delivery</td>\n",
              "    </tr>\n",
              "    <tr>\n",
              "      <th>4</th>\n",
              "      <td>MSI Core i3 10th Gen - (8 GB/512 GB SSD/Window...</td>\n",
              "      <td>4.4</td>\n",
              "      <td>₹31,990</td>\n",
              "      <td>Free delivery</td>\n",
              "    </tr>\n",
              "    <tr>\n",
              "      <th>5</th>\n",
              "      <td>ASUS VivoBook 15 (2021) Core i5 10th Gen - (8 ...</td>\n",
              "      <td>4.2</td>\n",
              "      <td>₹45,990</td>\n",
              "      <td>Free delivery</td>\n",
              "    </tr>\n",
              "    <tr>\n",
              "      <th>6</th>\n",
              "      <td>DELL Inspiron Athlon Dual Core 3050U - (8 GB/2...</td>\n",
              "      <td>4.2</td>\n",
              "      <td>₹29,990</td>\n",
              "      <td>Free delivery</td>\n",
              "    </tr>\n",
              "    <tr>\n",
              "      <th>7</th>\n",
              "      <td>DELL Inspiron Ryzen 5 Hexa Core R5-5500U - (8 ...</td>\n",
              "      <td>4.9</td>\n",
              "      <td>₹66,490</td>\n",
              "      <td>Free delivery</td>\n",
              "    </tr>\n",
              "    <tr>\n",
              "      <th>8</th>\n",
              "      <td>ASUS VivoBook 15 (2022) Core i3 10th Gen - (8 ...</td>\n",
              "      <td>4.3</td>\n",
              "      <td>₹35,990</td>\n",
              "      <td>Free delivery</td>\n",
              "    </tr>\n",
              "    <tr>\n",
              "      <th>9</th>\n",
              "      <td>HP Core i3 11th Gen - (8 GB/256 GB SSD/Windows...</td>\n",
              "      <td>4.3</td>\n",
              "      <td>₹37,990</td>\n",
              "      <td>Free delivery</td>\n",
              "    </tr>\n",
              "  </tbody>\n",
              "</table>\n",
              "</div>\n",
              "      <button class=\"colab-df-convert\" onclick=\"convertToInteractive('df-c10c2a63-006b-401d-904d-6f5b3d14f9a0')\"\n",
              "              title=\"Convert this dataframe to an interactive table.\"\n",
              "              style=\"display:none;\">\n",
              "        \n",
              "  <svg xmlns=\"http://www.w3.org/2000/svg\" height=\"24px\"viewBox=\"0 0 24 24\"\n",
              "       width=\"24px\">\n",
              "    <path d=\"M0 0h24v24H0V0z\" fill=\"none\"/>\n",
              "    <path d=\"M18.56 5.44l.94 2.06.94-2.06 2.06-.94-2.06-.94-.94-2.06-.94 2.06-2.06.94zm-11 1L8.5 8.5l.94-2.06 2.06-.94-2.06-.94L8.5 2.5l-.94 2.06-2.06.94zm10 10l.94 2.06.94-2.06 2.06-.94-2.06-.94-.94-2.06-.94 2.06-2.06.94z\"/><path d=\"M17.41 7.96l-1.37-1.37c-.4-.4-.92-.59-1.43-.59-.52 0-1.04.2-1.43.59L10.3 9.45l-7.72 7.72c-.78.78-.78 2.05 0 2.83L4 21.41c.39.39.9.59 1.41.59.51 0 1.02-.2 1.41-.59l7.78-7.78 2.81-2.81c.8-.78.8-2.07 0-2.86zM5.41 20L4 18.59l7.72-7.72 1.47 1.35L5.41 20z\"/>\n",
              "  </svg>\n",
              "      </button>\n",
              "      \n",
              "  <style>\n",
              "    .colab-df-container {\n",
              "      display:flex;\n",
              "      flex-wrap:wrap;\n",
              "      gap: 12px;\n",
              "    }\n",
              "\n",
              "    .colab-df-convert {\n",
              "      background-color: #E8F0FE;\n",
              "      border: none;\n",
              "      border-radius: 50%;\n",
              "      cursor: pointer;\n",
              "      display: none;\n",
              "      fill: #1967D2;\n",
              "      height: 32px;\n",
              "      padding: 0 0 0 0;\n",
              "      width: 32px;\n",
              "    }\n",
              "\n",
              "    .colab-df-convert:hover {\n",
              "      background-color: #E2EBFA;\n",
              "      box-shadow: 0px 1px 2px rgba(60, 64, 67, 0.3), 0px 1px 3px 1px rgba(60, 64, 67, 0.15);\n",
              "      fill: #174EA6;\n",
              "    }\n",
              "\n",
              "    [theme=dark] .colab-df-convert {\n",
              "      background-color: #3B4455;\n",
              "      fill: #D2E3FC;\n",
              "    }\n",
              "\n",
              "    [theme=dark] .colab-df-convert:hover {\n",
              "      background-color: #434B5C;\n",
              "      box-shadow: 0px 1px 3px 1px rgba(0, 0, 0, 0.15);\n",
              "      filter: drop-shadow(0px 1px 2px rgba(0, 0, 0, 0.3));\n",
              "      fill: #FFFFFF;\n",
              "    }\n",
              "  </style>\n",
              "\n",
              "      <script>\n",
              "        const buttonEl =\n",
              "          document.querySelector('#df-c10c2a63-006b-401d-904d-6f5b3d14f9a0 button.colab-df-convert');\n",
              "        buttonEl.style.display =\n",
              "          google.colab.kernel.accessAllowed ? 'block' : 'none';\n",
              "\n",
              "        async function convertToInteractive(key) {\n",
              "          const element = document.querySelector('#df-c10c2a63-006b-401d-904d-6f5b3d14f9a0');\n",
              "          const dataTable =\n",
              "            await google.colab.kernel.invokeFunction('convertToInteractive',\n",
              "                                                     [key], {});\n",
              "          if (!dataTable) return;\n",
              "\n",
              "          const docLinkHtml = 'Like what you see? Visit the ' +\n",
              "            '<a target=\"_blank\" href=https://colab.research.google.com/notebooks/data_table.ipynb>data table notebook</a>'\n",
              "            + ' to learn more about interactive tables.';\n",
              "          element.innerHTML = '';\n",
              "          dataTable['output_type'] = 'display_data';\n",
              "          await google.colab.output.renderOutput(dataTable, element);\n",
              "          const docLink = document.createElement('div');\n",
              "          docLink.innerHTML = docLinkHtml;\n",
              "          element.appendChild(docLink);\n",
              "        }\n",
              "      </script>\n",
              "    </div>\n",
              "  </div>\n",
              "  "
            ]
          },
          "metadata": {},
          "execution_count": 21
        }
      ]
    },
    {
      "cell_type": "markdown",
      "source": [
        "from the names column of the dataframe we can extract the brand of product."
      ],
      "metadata": {
        "id": "jRaLu7ykCo9z"
      }
    },
    {
      "cell_type": "code",
      "source": [
        "df['brand']=df['Product Name'].str.split(\" \", n = 1, expand = True)[0]\n",
        "df.head()"
      ],
      "metadata": {
        "colab": {
          "base_uri": "https://localhost:8080/",
          "height": 206
        },
        "id": "1MDXdobOC3Da",
        "outputId": "43150ef7-8ed1-490e-8ec5-abfef4dd8b87"
      },
      "execution_count": 24,
      "outputs": [
        {
          "output_type": "execute_result",
          "data": {
            "text/plain": [
              "                                        Product Name rating    price  \\\n",
              "0  DELL Inspiron Ryzen 3 Dual Core 3250U - (8 GB/...    4.2  ₹31,990   \n",
              "1  DELL Vostro Ryzen 3 Dual Core R3-3250U - (8 GB...    3.8  ₹29,990   \n",
              "2  Lenovo IdeaPad 3 Core i3 10th Gen - (8 GB/256 ...    4.3  ₹33,490   \n",
              "3  Lenovo IdeaPad 3 Core i3 11th Gen - (8 GB/512 ...    4.3  ₹38,250   \n",
              "4  MSI Core i3 10th Gen - (8 GB/512 GB SSD/Window...    4.4  ₹31,990   \n",
              "\n",
              "  mode of delivery   brand  \n",
              "0    Free delivery    DELL  \n",
              "1    Free delivery    DELL  \n",
              "2    Free delivery  Lenovo  \n",
              "3    Free delivery  Lenovo  \n",
              "4    Free delivery     MSI  "
            ],
            "text/html": [
              "\n",
              "  <div id=\"df-28a6b63f-0c70-40e7-827f-df1e4747090f\">\n",
              "    <div class=\"colab-df-container\">\n",
              "      <div>\n",
              "<style scoped>\n",
              "    .dataframe tbody tr th:only-of-type {\n",
              "        vertical-align: middle;\n",
              "    }\n",
              "\n",
              "    .dataframe tbody tr th {\n",
              "        vertical-align: top;\n",
              "    }\n",
              "\n",
              "    .dataframe thead th {\n",
              "        text-align: right;\n",
              "    }\n",
              "</style>\n",
              "<table border=\"1\" class=\"dataframe\">\n",
              "  <thead>\n",
              "    <tr style=\"text-align: right;\">\n",
              "      <th></th>\n",
              "      <th>Product Name</th>\n",
              "      <th>rating</th>\n",
              "      <th>price</th>\n",
              "      <th>mode of delivery</th>\n",
              "      <th>brand</th>\n",
              "    </tr>\n",
              "  </thead>\n",
              "  <tbody>\n",
              "    <tr>\n",
              "      <th>0</th>\n",
              "      <td>DELL Inspiron Ryzen 3 Dual Core 3250U - (8 GB/...</td>\n",
              "      <td>4.2</td>\n",
              "      <td>₹31,990</td>\n",
              "      <td>Free delivery</td>\n",
              "      <td>DELL</td>\n",
              "    </tr>\n",
              "    <tr>\n",
              "      <th>1</th>\n",
              "      <td>DELL Vostro Ryzen 3 Dual Core R3-3250U - (8 GB...</td>\n",
              "      <td>3.8</td>\n",
              "      <td>₹29,990</td>\n",
              "      <td>Free delivery</td>\n",
              "      <td>DELL</td>\n",
              "    </tr>\n",
              "    <tr>\n",
              "      <th>2</th>\n",
              "      <td>Lenovo IdeaPad 3 Core i3 10th Gen - (8 GB/256 ...</td>\n",
              "      <td>4.3</td>\n",
              "      <td>₹33,490</td>\n",
              "      <td>Free delivery</td>\n",
              "      <td>Lenovo</td>\n",
              "    </tr>\n",
              "    <tr>\n",
              "      <th>3</th>\n",
              "      <td>Lenovo IdeaPad 3 Core i3 11th Gen - (8 GB/512 ...</td>\n",
              "      <td>4.3</td>\n",
              "      <td>₹38,250</td>\n",
              "      <td>Free delivery</td>\n",
              "      <td>Lenovo</td>\n",
              "    </tr>\n",
              "    <tr>\n",
              "      <th>4</th>\n",
              "      <td>MSI Core i3 10th Gen - (8 GB/512 GB SSD/Window...</td>\n",
              "      <td>4.4</td>\n",
              "      <td>₹31,990</td>\n",
              "      <td>Free delivery</td>\n",
              "      <td>MSI</td>\n",
              "    </tr>\n",
              "  </tbody>\n",
              "</table>\n",
              "</div>\n",
              "      <button class=\"colab-df-convert\" onclick=\"convertToInteractive('df-28a6b63f-0c70-40e7-827f-df1e4747090f')\"\n",
              "              title=\"Convert this dataframe to an interactive table.\"\n",
              "              style=\"display:none;\">\n",
              "        \n",
              "  <svg xmlns=\"http://www.w3.org/2000/svg\" height=\"24px\"viewBox=\"0 0 24 24\"\n",
              "       width=\"24px\">\n",
              "    <path d=\"M0 0h24v24H0V0z\" fill=\"none\"/>\n",
              "    <path d=\"M18.56 5.44l.94 2.06.94-2.06 2.06-.94-2.06-.94-.94-2.06-.94 2.06-2.06.94zm-11 1L8.5 8.5l.94-2.06 2.06-.94-2.06-.94L8.5 2.5l-.94 2.06-2.06.94zm10 10l.94 2.06.94-2.06 2.06-.94-2.06-.94-.94-2.06-.94 2.06-2.06.94z\"/><path d=\"M17.41 7.96l-1.37-1.37c-.4-.4-.92-.59-1.43-.59-.52 0-1.04.2-1.43.59L10.3 9.45l-7.72 7.72c-.78.78-.78 2.05 0 2.83L4 21.41c.39.39.9.59 1.41.59.51 0 1.02-.2 1.41-.59l7.78-7.78 2.81-2.81c.8-.78.8-2.07 0-2.86zM5.41 20L4 18.59l7.72-7.72 1.47 1.35L5.41 20z\"/>\n",
              "  </svg>\n",
              "      </button>\n",
              "      \n",
              "  <style>\n",
              "    .colab-df-container {\n",
              "      display:flex;\n",
              "      flex-wrap:wrap;\n",
              "      gap: 12px;\n",
              "    }\n",
              "\n",
              "    .colab-df-convert {\n",
              "      background-color: #E8F0FE;\n",
              "      border: none;\n",
              "      border-radius: 50%;\n",
              "      cursor: pointer;\n",
              "      display: none;\n",
              "      fill: #1967D2;\n",
              "      height: 32px;\n",
              "      padding: 0 0 0 0;\n",
              "      width: 32px;\n",
              "    }\n",
              "\n",
              "    .colab-df-convert:hover {\n",
              "      background-color: #E2EBFA;\n",
              "      box-shadow: 0px 1px 2px rgba(60, 64, 67, 0.3), 0px 1px 3px 1px rgba(60, 64, 67, 0.15);\n",
              "      fill: #174EA6;\n",
              "    }\n",
              "\n",
              "    [theme=dark] .colab-df-convert {\n",
              "      background-color: #3B4455;\n",
              "      fill: #D2E3FC;\n",
              "    }\n",
              "\n",
              "    [theme=dark] .colab-df-convert:hover {\n",
              "      background-color: #434B5C;\n",
              "      box-shadow: 0px 1px 3px 1px rgba(0, 0, 0, 0.15);\n",
              "      filter: drop-shadow(0px 1px 2px rgba(0, 0, 0, 0.3));\n",
              "      fill: #FFFFFF;\n",
              "    }\n",
              "  </style>\n",
              "\n",
              "      <script>\n",
              "        const buttonEl =\n",
              "          document.querySelector('#df-28a6b63f-0c70-40e7-827f-df1e4747090f button.colab-df-convert');\n",
              "        buttonEl.style.display =\n",
              "          google.colab.kernel.accessAllowed ? 'block' : 'none';\n",
              "\n",
              "        async function convertToInteractive(key) {\n",
              "          const element = document.querySelector('#df-28a6b63f-0c70-40e7-827f-df1e4747090f');\n",
              "          const dataTable =\n",
              "            await google.colab.kernel.invokeFunction('convertToInteractive',\n",
              "                                                     [key], {});\n",
              "          if (!dataTable) return;\n",
              "\n",
              "          const docLinkHtml = 'Like what you see? Visit the ' +\n",
              "            '<a target=\"_blank\" href=https://colab.research.google.com/notebooks/data_table.ipynb>data table notebook</a>'\n",
              "            + ' to learn more about interactive tables.';\n",
              "          element.innerHTML = '';\n",
              "          dataTable['output_type'] = 'display_data';\n",
              "          await google.colab.output.renderOutput(dataTable, element);\n",
              "          const docLink = document.createElement('div');\n",
              "          docLink.innerHTML = docLinkHtml;\n",
              "          element.appendChild(docLink);\n",
              "        }\n",
              "      </script>\n",
              "    </div>\n",
              "  </div>\n",
              "  "
            ]
          },
          "metadata": {},
          "execution_count": 24
        }
      ]
    },
    {
      "cell_type": "markdown",
      "source": [
        "from the prices column I can remove '₹' to change the data type."
      ],
      "metadata": {
        "id": "GxppaUnzD87h"
      }
    },
    {
      "cell_type": "code",
      "source": [
        "df['price']=df['price'].str.replace('₹','')\n",
        "df['price']=df['price'].str.replace(',','')\n",
        "df['price']=df['price'].astype(int)\n",
        "df.head()"
      ],
      "metadata": {
        "colab": {
          "base_uri": "https://localhost:8080/",
          "height": 206
        },
        "id": "n-rAc1ssEJ5y",
        "outputId": "24cfe40e-b1a1-4a76-fd0d-00aa139ed548"
      },
      "execution_count": 29,
      "outputs": [
        {
          "output_type": "execute_result",
          "data": {
            "text/plain": [
              "                                        Product Name rating  price  \\\n",
              "0  DELL Inspiron Ryzen 3 Dual Core 3250U - (8 GB/...    4.2  31990   \n",
              "1  DELL Vostro Ryzen 3 Dual Core R3-3250U - (8 GB...    3.8  29990   \n",
              "2  Lenovo IdeaPad 3 Core i3 10th Gen - (8 GB/256 ...    4.3  33490   \n",
              "3  Lenovo IdeaPad 3 Core i3 11th Gen - (8 GB/512 ...    4.3  38250   \n",
              "4  MSI Core i3 10th Gen - (8 GB/512 GB SSD/Window...    4.4  31990   \n",
              "\n",
              "  mode of delivery   brand  \n",
              "0    Free delivery    DELL  \n",
              "1    Free delivery    DELL  \n",
              "2    Free delivery  Lenovo  \n",
              "3    Free delivery  Lenovo  \n",
              "4    Free delivery     MSI  "
            ],
            "text/html": [
              "\n",
              "  <div id=\"df-556f9ee7-baff-4dd0-b906-47379c24ebf7\">\n",
              "    <div class=\"colab-df-container\">\n",
              "      <div>\n",
              "<style scoped>\n",
              "    .dataframe tbody tr th:only-of-type {\n",
              "        vertical-align: middle;\n",
              "    }\n",
              "\n",
              "    .dataframe tbody tr th {\n",
              "        vertical-align: top;\n",
              "    }\n",
              "\n",
              "    .dataframe thead th {\n",
              "        text-align: right;\n",
              "    }\n",
              "</style>\n",
              "<table border=\"1\" class=\"dataframe\">\n",
              "  <thead>\n",
              "    <tr style=\"text-align: right;\">\n",
              "      <th></th>\n",
              "      <th>Product Name</th>\n",
              "      <th>rating</th>\n",
              "      <th>price</th>\n",
              "      <th>mode of delivery</th>\n",
              "      <th>brand</th>\n",
              "    </tr>\n",
              "  </thead>\n",
              "  <tbody>\n",
              "    <tr>\n",
              "      <th>0</th>\n",
              "      <td>DELL Inspiron Ryzen 3 Dual Core 3250U - (8 GB/...</td>\n",
              "      <td>4.2</td>\n",
              "      <td>31990</td>\n",
              "      <td>Free delivery</td>\n",
              "      <td>DELL</td>\n",
              "    </tr>\n",
              "    <tr>\n",
              "      <th>1</th>\n",
              "      <td>DELL Vostro Ryzen 3 Dual Core R3-3250U - (8 GB...</td>\n",
              "      <td>3.8</td>\n",
              "      <td>29990</td>\n",
              "      <td>Free delivery</td>\n",
              "      <td>DELL</td>\n",
              "    </tr>\n",
              "    <tr>\n",
              "      <th>2</th>\n",
              "      <td>Lenovo IdeaPad 3 Core i3 10th Gen - (8 GB/256 ...</td>\n",
              "      <td>4.3</td>\n",
              "      <td>33490</td>\n",
              "      <td>Free delivery</td>\n",
              "      <td>Lenovo</td>\n",
              "    </tr>\n",
              "    <tr>\n",
              "      <th>3</th>\n",
              "      <td>Lenovo IdeaPad 3 Core i3 11th Gen - (8 GB/512 ...</td>\n",
              "      <td>4.3</td>\n",
              "      <td>38250</td>\n",
              "      <td>Free delivery</td>\n",
              "      <td>Lenovo</td>\n",
              "    </tr>\n",
              "    <tr>\n",
              "      <th>4</th>\n",
              "      <td>MSI Core i3 10th Gen - (8 GB/512 GB SSD/Window...</td>\n",
              "      <td>4.4</td>\n",
              "      <td>31990</td>\n",
              "      <td>Free delivery</td>\n",
              "      <td>MSI</td>\n",
              "    </tr>\n",
              "  </tbody>\n",
              "</table>\n",
              "</div>\n",
              "      <button class=\"colab-df-convert\" onclick=\"convertToInteractive('df-556f9ee7-baff-4dd0-b906-47379c24ebf7')\"\n",
              "              title=\"Convert this dataframe to an interactive table.\"\n",
              "              style=\"display:none;\">\n",
              "        \n",
              "  <svg xmlns=\"http://www.w3.org/2000/svg\" height=\"24px\"viewBox=\"0 0 24 24\"\n",
              "       width=\"24px\">\n",
              "    <path d=\"M0 0h24v24H0V0z\" fill=\"none\"/>\n",
              "    <path d=\"M18.56 5.44l.94 2.06.94-2.06 2.06-.94-2.06-.94-.94-2.06-.94 2.06-2.06.94zm-11 1L8.5 8.5l.94-2.06 2.06-.94-2.06-.94L8.5 2.5l-.94 2.06-2.06.94zm10 10l.94 2.06.94-2.06 2.06-.94-2.06-.94-.94-2.06-.94 2.06-2.06.94z\"/><path d=\"M17.41 7.96l-1.37-1.37c-.4-.4-.92-.59-1.43-.59-.52 0-1.04.2-1.43.59L10.3 9.45l-7.72 7.72c-.78.78-.78 2.05 0 2.83L4 21.41c.39.39.9.59 1.41.59.51 0 1.02-.2 1.41-.59l7.78-7.78 2.81-2.81c.8-.78.8-2.07 0-2.86zM5.41 20L4 18.59l7.72-7.72 1.47 1.35L5.41 20z\"/>\n",
              "  </svg>\n",
              "      </button>\n",
              "      \n",
              "  <style>\n",
              "    .colab-df-container {\n",
              "      display:flex;\n",
              "      flex-wrap:wrap;\n",
              "      gap: 12px;\n",
              "    }\n",
              "\n",
              "    .colab-df-convert {\n",
              "      background-color: #E8F0FE;\n",
              "      border: none;\n",
              "      border-radius: 50%;\n",
              "      cursor: pointer;\n",
              "      display: none;\n",
              "      fill: #1967D2;\n",
              "      height: 32px;\n",
              "      padding: 0 0 0 0;\n",
              "      width: 32px;\n",
              "    }\n",
              "\n",
              "    .colab-df-convert:hover {\n",
              "      background-color: #E2EBFA;\n",
              "      box-shadow: 0px 1px 2px rgba(60, 64, 67, 0.3), 0px 1px 3px 1px rgba(60, 64, 67, 0.15);\n",
              "      fill: #174EA6;\n",
              "    }\n",
              "\n",
              "    [theme=dark] .colab-df-convert {\n",
              "      background-color: #3B4455;\n",
              "      fill: #D2E3FC;\n",
              "    }\n",
              "\n",
              "    [theme=dark] .colab-df-convert:hover {\n",
              "      background-color: #434B5C;\n",
              "      box-shadow: 0px 1px 3px 1px rgba(0, 0, 0, 0.15);\n",
              "      filter: drop-shadow(0px 1px 2px rgba(0, 0, 0, 0.3));\n",
              "      fill: #FFFFFF;\n",
              "    }\n",
              "  </style>\n",
              "\n",
              "      <script>\n",
              "        const buttonEl =\n",
              "          document.querySelector('#df-556f9ee7-baff-4dd0-b906-47379c24ebf7 button.colab-df-convert');\n",
              "        buttonEl.style.display =\n",
              "          google.colab.kernel.accessAllowed ? 'block' : 'none';\n",
              "\n",
              "        async function convertToInteractive(key) {\n",
              "          const element = document.querySelector('#df-556f9ee7-baff-4dd0-b906-47379c24ebf7');\n",
              "          const dataTable =\n",
              "            await google.colab.kernel.invokeFunction('convertToInteractive',\n",
              "                                                     [key], {});\n",
              "          if (!dataTable) return;\n",
              "\n",
              "          const docLinkHtml = 'Like what you see? Visit the ' +\n",
              "            '<a target=\"_blank\" href=https://colab.research.google.com/notebooks/data_table.ipynb>data table notebook</a>'\n",
              "            + ' to learn more about interactive tables.';\n",
              "          element.innerHTML = '';\n",
              "          dataTable['output_type'] = 'display_data';\n",
              "          await google.colab.output.renderOutput(dataTable, element);\n",
              "          const docLink = document.createElement('div');\n",
              "          docLink.innerHTML = docLinkHtml;\n",
              "          element.appendChild(docLink);\n",
              "        }\n",
              "      </script>\n",
              "    </div>\n",
              "  </div>\n",
              "  "
            ]
          },
          "metadata": {},
          "execution_count": 29
        }
      ]
    },
    {
      "cell_type": "markdown",
      "source": [
        "Save the scraped data to csv file."
      ],
      "metadata": {
        "id": "0w1yYLGYFugv"
      }
    },
    {
      "cell_type": "code",
      "source": [
        "df.to_csv('out.csv', index=False)"
      ],
      "metadata": {
        "id": "KmAoLI1AE3SD"
      },
      "execution_count": 32,
      "outputs": []
    },
    {
      "cell_type": "markdown",
      "source": [
        "let's load the saved document"
      ],
      "metadata": {
        "id": "Anoh7BqcGzhC"
      }
    },
    {
      "cell_type": "code",
      "source": [
        "saved=pd.read_csv('out.csv')\n",
        "saved.head()"
      ],
      "metadata": {
        "colab": {
          "base_uri": "https://localhost:8080/",
          "height": 206
        },
        "id": "GiJqfo7OG3Xj",
        "outputId": "1c8cd947-5dc4-4450-bb8a-6029905282aa"
      },
      "execution_count": 33,
      "outputs": [
        {
          "output_type": "execute_result",
          "data": {
            "text/plain": [
              "                                        Product Name  rating  price  \\\n",
              "0  DELL Inspiron Ryzen 3 Dual Core 3250U - (8 GB/...     4.2  31990   \n",
              "1  DELL Vostro Ryzen 3 Dual Core R3-3250U - (8 GB...     3.8  29990   \n",
              "2  Lenovo IdeaPad 3 Core i3 10th Gen - (8 GB/256 ...     4.3  33490   \n",
              "3  Lenovo IdeaPad 3 Core i3 11th Gen - (8 GB/512 ...     4.3  38250   \n",
              "4  MSI Core i3 10th Gen - (8 GB/512 GB SSD/Window...     4.4  31990   \n",
              "\n",
              "  mode of delivery   brand  \n",
              "0    Free delivery    DELL  \n",
              "1    Free delivery    DELL  \n",
              "2    Free delivery  Lenovo  \n",
              "3    Free delivery  Lenovo  \n",
              "4    Free delivery     MSI  "
            ],
            "text/html": [
              "\n",
              "  <div id=\"df-82522e47-268d-44f6-a47b-f6b237ae6635\">\n",
              "    <div class=\"colab-df-container\">\n",
              "      <div>\n",
              "<style scoped>\n",
              "    .dataframe tbody tr th:only-of-type {\n",
              "        vertical-align: middle;\n",
              "    }\n",
              "\n",
              "    .dataframe tbody tr th {\n",
              "        vertical-align: top;\n",
              "    }\n",
              "\n",
              "    .dataframe thead th {\n",
              "        text-align: right;\n",
              "    }\n",
              "</style>\n",
              "<table border=\"1\" class=\"dataframe\">\n",
              "  <thead>\n",
              "    <tr style=\"text-align: right;\">\n",
              "      <th></th>\n",
              "      <th>Product Name</th>\n",
              "      <th>rating</th>\n",
              "      <th>price</th>\n",
              "      <th>mode of delivery</th>\n",
              "      <th>brand</th>\n",
              "    </tr>\n",
              "  </thead>\n",
              "  <tbody>\n",
              "    <tr>\n",
              "      <th>0</th>\n",
              "      <td>DELL Inspiron Ryzen 3 Dual Core 3250U - (8 GB/...</td>\n",
              "      <td>4.2</td>\n",
              "      <td>31990</td>\n",
              "      <td>Free delivery</td>\n",
              "      <td>DELL</td>\n",
              "    </tr>\n",
              "    <tr>\n",
              "      <th>1</th>\n",
              "      <td>DELL Vostro Ryzen 3 Dual Core R3-3250U - (8 GB...</td>\n",
              "      <td>3.8</td>\n",
              "      <td>29990</td>\n",
              "      <td>Free delivery</td>\n",
              "      <td>DELL</td>\n",
              "    </tr>\n",
              "    <tr>\n",
              "      <th>2</th>\n",
              "      <td>Lenovo IdeaPad 3 Core i3 10th Gen - (8 GB/256 ...</td>\n",
              "      <td>4.3</td>\n",
              "      <td>33490</td>\n",
              "      <td>Free delivery</td>\n",
              "      <td>Lenovo</td>\n",
              "    </tr>\n",
              "    <tr>\n",
              "      <th>3</th>\n",
              "      <td>Lenovo IdeaPad 3 Core i3 11th Gen - (8 GB/512 ...</td>\n",
              "      <td>4.3</td>\n",
              "      <td>38250</td>\n",
              "      <td>Free delivery</td>\n",
              "      <td>Lenovo</td>\n",
              "    </tr>\n",
              "    <tr>\n",
              "      <th>4</th>\n",
              "      <td>MSI Core i3 10th Gen - (8 GB/512 GB SSD/Window...</td>\n",
              "      <td>4.4</td>\n",
              "      <td>31990</td>\n",
              "      <td>Free delivery</td>\n",
              "      <td>MSI</td>\n",
              "    </tr>\n",
              "  </tbody>\n",
              "</table>\n",
              "</div>\n",
              "      <button class=\"colab-df-convert\" onclick=\"convertToInteractive('df-82522e47-268d-44f6-a47b-f6b237ae6635')\"\n",
              "              title=\"Convert this dataframe to an interactive table.\"\n",
              "              style=\"display:none;\">\n",
              "        \n",
              "  <svg xmlns=\"http://www.w3.org/2000/svg\" height=\"24px\"viewBox=\"0 0 24 24\"\n",
              "       width=\"24px\">\n",
              "    <path d=\"M0 0h24v24H0V0z\" fill=\"none\"/>\n",
              "    <path d=\"M18.56 5.44l.94 2.06.94-2.06 2.06-.94-2.06-.94-.94-2.06-.94 2.06-2.06.94zm-11 1L8.5 8.5l.94-2.06 2.06-.94-2.06-.94L8.5 2.5l-.94 2.06-2.06.94zm10 10l.94 2.06.94-2.06 2.06-.94-2.06-.94-.94-2.06-.94 2.06-2.06.94z\"/><path d=\"M17.41 7.96l-1.37-1.37c-.4-.4-.92-.59-1.43-.59-.52 0-1.04.2-1.43.59L10.3 9.45l-7.72 7.72c-.78.78-.78 2.05 0 2.83L4 21.41c.39.39.9.59 1.41.59.51 0 1.02-.2 1.41-.59l7.78-7.78 2.81-2.81c.8-.78.8-2.07 0-2.86zM5.41 20L4 18.59l7.72-7.72 1.47 1.35L5.41 20z\"/>\n",
              "  </svg>\n",
              "      </button>\n",
              "      \n",
              "  <style>\n",
              "    .colab-df-container {\n",
              "      display:flex;\n",
              "      flex-wrap:wrap;\n",
              "      gap: 12px;\n",
              "    }\n",
              "\n",
              "    .colab-df-convert {\n",
              "      background-color: #E8F0FE;\n",
              "      border: none;\n",
              "      border-radius: 50%;\n",
              "      cursor: pointer;\n",
              "      display: none;\n",
              "      fill: #1967D2;\n",
              "      height: 32px;\n",
              "      padding: 0 0 0 0;\n",
              "      width: 32px;\n",
              "    }\n",
              "\n",
              "    .colab-df-convert:hover {\n",
              "      background-color: #E2EBFA;\n",
              "      box-shadow: 0px 1px 2px rgba(60, 64, 67, 0.3), 0px 1px 3px 1px rgba(60, 64, 67, 0.15);\n",
              "      fill: #174EA6;\n",
              "    }\n",
              "\n",
              "    [theme=dark] .colab-df-convert {\n",
              "      background-color: #3B4455;\n",
              "      fill: #D2E3FC;\n",
              "    }\n",
              "\n",
              "    [theme=dark] .colab-df-convert:hover {\n",
              "      background-color: #434B5C;\n",
              "      box-shadow: 0px 1px 3px 1px rgba(0, 0, 0, 0.15);\n",
              "      filter: drop-shadow(0px 1px 2px rgba(0, 0, 0, 0.3));\n",
              "      fill: #FFFFFF;\n",
              "    }\n",
              "  </style>\n",
              "\n",
              "      <script>\n",
              "        const buttonEl =\n",
              "          document.querySelector('#df-82522e47-268d-44f6-a47b-f6b237ae6635 button.colab-df-convert');\n",
              "        buttonEl.style.display =\n",
              "          google.colab.kernel.accessAllowed ? 'block' : 'none';\n",
              "\n",
              "        async function convertToInteractive(key) {\n",
              "          const element = document.querySelector('#df-82522e47-268d-44f6-a47b-f6b237ae6635');\n",
              "          const dataTable =\n",
              "            await google.colab.kernel.invokeFunction('convertToInteractive',\n",
              "                                                     [key], {});\n",
              "          if (!dataTable) return;\n",
              "\n",
              "          const docLinkHtml = 'Like what you see? Visit the ' +\n",
              "            '<a target=\"_blank\" href=https://colab.research.google.com/notebooks/data_table.ipynb>data table notebook</a>'\n",
              "            + ' to learn more about interactive tables.';\n",
              "          element.innerHTML = '';\n",
              "          dataTable['output_type'] = 'display_data';\n",
              "          await google.colab.output.renderOutput(dataTable, element);\n",
              "          const docLink = document.createElement('div');\n",
              "          docLink.innerHTML = docLinkHtml;\n",
              "          element.appendChild(docLink);\n",
              "        }\n",
              "      </script>\n",
              "    </div>\n",
              "  </div>\n",
              "  "
            ]
          },
          "metadata": {},
          "execution_count": 33
        }
      ]
    }
  ]
}