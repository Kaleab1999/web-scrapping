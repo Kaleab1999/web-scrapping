{
  "nbformat": 4,
  "nbformat_minor": 0,
  "metadata": {
    "colab": {
      "name": "organization address scraping.ipynb",
      "provenance": [],
      "authorship_tag": "ABX9TyOKRZHzzWXKjjnwfMD/2KNh",
      "include_colab_link": true
    },
    "kernelspec": {
      "name": "python3",
      "display_name": "Python 3"
    },
    "language_info": {
      "name": "python"
    }
  },
  "cells": [
    {
      "cell_type": "markdown",
      "metadata": {
        "id": "view-in-github",
        "colab_type": "text"
      },
      "source": [
        "<a href=\"https://colab.research.google.com/github/Kaleab1999/web-scrapping/blob/main/organization_address_scraping.ipynb\" target=\"_parent\"><img src=\"https://colab.research.google.com/assets/colab-badge.svg\" alt=\"Open In Colab\"/></a>"
      ]
    },
    {
      "cell_type": "code",
      "execution_count": 1,
      "metadata": {
        "colab": {
          "base_uri": "https://localhost:8080/"
        },
        "id": "2olP3YNfszBQ",
        "outputId": "62861715-3eed-43e0-cf44-5233faddfad2"
      },
      "outputs": [
        {
          "output_type": "stream",
          "name": "stdout",
          "text": [
            "Looking in indexes: https://pypi.org/simple, https://us-python.pkg.dev/colab-wheels/public/simple/\n",
            "Collecting autoscraper\n",
            "  Downloading autoscraper-1.1.14-py3-none-any.whl (10 kB)\n",
            "Requirement already satisfied: bs4 in /usr/local/lib/python3.7/dist-packages (from autoscraper) (0.0.1)\n",
            "Requirement already satisfied: lxml in /usr/local/lib/python3.7/dist-packages (from autoscraper) (4.2.6)\n",
            "Requirement already satisfied: requests in /usr/local/lib/python3.7/dist-packages (from autoscraper) (2.23.0)\n",
            "Requirement already satisfied: beautifulsoup4 in /usr/local/lib/python3.7/dist-packages (from bs4->autoscraper) (4.6.3)\n",
            "Requirement already satisfied: certifi>=2017.4.17 in /usr/local/lib/python3.7/dist-packages (from requests->autoscraper) (2022.6.15)\n",
            "Requirement already satisfied: chardet<4,>=3.0.2 in /usr/local/lib/python3.7/dist-packages (from requests->autoscraper) (3.0.4)\n",
            "Requirement already satisfied: idna<3,>=2.5 in /usr/local/lib/python3.7/dist-packages (from requests->autoscraper) (2.10)\n",
            "Requirement already satisfied: urllib3!=1.25.0,!=1.25.1,<1.26,>=1.21.1 in /usr/local/lib/python3.7/dist-packages (from requests->autoscraper) (1.24.3)\n",
            "Installing collected packages: autoscraper\n",
            "Successfully installed autoscraper-1.1.14\n"
          ]
        }
      ],
      "source": [
        "!pip install autoscraper"
      ]
    },
    {
      "cell_type": "code",
      "source": [
        "from autoscraper import AutoScraper"
      ],
      "metadata": {
        "id": "smGSZFyDs6Me"
      },
      "execution_count": 2,
      "outputs": []
    },
    {
      "cell_type": "code",
      "source": [
        "url='https://www.volunteerconnector.org/brampton/557-rcacc-support-committee'\n",
        "wanted=['557 RCACC Support Committee','St. Brampton ON L6W 2H1','416-900-8281','chair@557support.ca','https://www.557support.ca']"
      ],
      "metadata": {
        "id": "1ReY1XEJs-Ic"
      },
      "execution_count": 43,
      "outputs": []
    },
    {
      "cell_type": "code",
      "source": [
        "scraper=AutoScraper()\n",
        "result=scraper.build(url,wanted)\n",
        "print(result)"
      ],
      "metadata": {
        "colab": {
          "base_uri": "https://localhost:8080/"
        },
        "id": "hTVjNIZRtUj1",
        "outputId": "6674a681-49c8-476b-ec28-372e32408f73"
      },
      "execution_count": 44,
      "outputs": [
        {
          "output_type": "stream",
          "name": "stdout",
          "text": [
            "['557 RCACC Support Committee', '416-900-8281', 'chair@557support.ca', 'https://www.557support.ca']\n"
          ]
        }
      ]
    },
    {
      "cell_type": "code",
      "source": [
        "scraper.get_result_similar('https://www.volunteerconnector.org/brampton/557-rcacc-support-committee',grouped=True)"
      ],
      "metadata": {
        "colab": {
          "base_uri": "https://localhost:8080/"
        },
        "id": "HEoRqWtmtXIc",
        "outputId": "318f6723-efb8-40b6-944e-57ffcd288397"
      },
      "execution_count": 5,
      "outputs": [
        {
          "output_type": "execute_result",
          "data": {
            "text/plain": [
              "{'rule_3ay7': ['557 RCACC Support Committee'],\n",
              " 'rule_406e': ['https://www.557support.ca'],\n",
              " 'rule_9grj': ['chair@557support.ca'],\n",
              " 'rule_pjxf': ['416-900-8281']}"
            ]
          },
          "metadata": {},
          "execution_count": 5
        }
      ]
    },
    {
      "cell_type": "code",
      "source": [
        "scraper.set_rule_aliases({'rule_3ay7': 'title', 'rule_406e':'website','rule_9grj':'email','rule_pjxf':'phone number'})\n",
        "scraper.keep_rules(['rule_3ay7','rule_406e','rule_9grj','rule_pjxf'])\n",
        "scraper.save('freelance_data')"
      ],
      "metadata": {
        "id": "2racXCC4tnyV"
      },
      "execution_count": 12,
      "outputs": []
    },
    {
      "cell_type": "code",
      "source": [
        "scraper.load('freelance_data')"
      ],
      "metadata": {
        "id": "mtvMh-UxuHFU"
      },
      "execution_count": 13,
      "outputs": []
    },
    {
      "cell_type": "code",
      "source": [
        "result=scraper.get_result_similar('https://www.volunteerconnector.org/brampton/557-rcacc-support-committee',group_by_alias=True)"
      ],
      "metadata": {
        "id": "CitKY0YZuLVC"
      },
      "execution_count": 17,
      "outputs": []
    },
    {
      "cell_type": "code",
      "source": [
        "result"
      ],
      "metadata": {
        "colab": {
          "base_uri": "https://localhost:8080/"
        },
        "id": "2HPn_aTluenj",
        "outputId": "52d9dcb1-928a-4ef7-c230-31752db07be0"
      },
      "execution_count": 18,
      "outputs": [
        {
          "output_type": "execute_result",
          "data": {
            "text/plain": [
              "{'email': ['chair@557support.ca'],\n",
              " 'phone number': ['416-900-8281'],\n",
              " 'title': ['557 RCACC Support Committee'],\n",
              " 'website': ['https://www.557support.ca']}"
            ]
          },
          "metadata": {},
          "execution_count": 18
        }
      ]
    },
    {
      "cell_type": "code",
      "source": [
        "result2=scraper.get_result_similar('https://www.volunteerconnector.org/toronto/am4teens',group_by_alias=True)"
      ],
      "metadata": {
        "id": "bI6LEn-uuhDA"
      },
      "execution_count": 19,
      "outputs": []
    },
    {
      "cell_type": "code",
      "source": [
        "result2"
      ],
      "metadata": {
        "colab": {
          "base_uri": "https://localhost:8080/"
        },
        "id": "X_O7V-Suu6OK",
        "outputId": "596fdbae-f3b0-4113-9a14-cd20b8f80bb9"
      },
      "execution_count": 21,
      "outputs": [
        {
          "output_type": "execute_result",
          "data": {
            "text/plain": [
              "{'email': ['eimaan@am4teens.org'],\n",
              " 'phone number': ['905-531-0695'],\n",
              " 'title': ['Am4teens'],\n",
              " 'website': ['https://www.am4teens.org/']}"
            ]
          },
          "metadata": {},
          "execution_count": 21
        }
      ]
    },
    {
      "cell_type": "code",
      "source": [
        "result3=scraper.get_result_similar('https://www.volunteerconnector.org/toronto/ask-an-undergrad',group_by_alias=True)\n",
        "result3"
      ],
      "metadata": {
        "colab": {
          "base_uri": "https://localhost:8080/"
        },
        "id": "tOTNwpL7u_do",
        "outputId": "8394854d-8c9c-4ed6-c2cf-ef5b5e18974a"
      },
      "execution_count": 22,
      "outputs": [
        {
          "output_type": "execute_result",
          "data": {
            "text/plain": [
              "{'email': ['askanundergrad@gmail.com'],\n",
              " 'phone number': ['647-636-3667'],\n",
              " 'title': ['Ask An Undergrad'],\n",
              " 'website': ['https://www.askanundergrad.com/']}"
            ]
          },
          "metadata": {},
          "execution_count": 22
        }
      ]
    },
    {
      "cell_type": "code",
      "source": [
        "result4=scraper.get_result_similar('https://www.volunteerconnector.org/scarborough/athletics-ontario',group_by_alias=True)\n",
        "result4"
      ],
      "metadata": {
        "colab": {
          "base_uri": "https://localhost:8080/"
        },
        "id": "GrN6WarJvLxx",
        "outputId": "b4873e3c-0536-4413-c14d-21d52f0cab3b"
      },
      "execution_count": 23,
      "outputs": [
        {
          "output_type": "execute_result",
          "data": {
            "text/plain": [
              "{'email': ['volunteer@athleticsontario.ca'],\n",
              " 'phone number': ['416-669-1587'],\n",
              " 'title': ['Athletics Ontario'],\n",
              " 'website': ['https://athleticsontario.ca/']}"
            ]
          },
          "metadata": {},
          "execution_count": 23
        }
      ]
    },
    {
      "cell_type": "code",
      "source": [
        "from collections import defaultdict\n",
        "dd = defaultdict(list)\n",
        "\n",
        "for d in (result, result2,result3,result4): # you can list as many input dicts as you want here\n",
        "    for key, value in d.items():\n",
        "        dd[key].append(value)\n",
        "\n",
        "print(dd)"
      ],
      "metadata": {
        "colab": {
          "base_uri": "https://localhost:8080/"
        },
        "id": "mojeBxbLvZBm",
        "outputId": "bb15bb34-4a97-495d-ff74-09356674afd4"
      },
      "execution_count": 28,
      "outputs": [
        {
          "output_type": "stream",
          "name": "stdout",
          "text": [
            "defaultdict(<class 'list'>, {'title': [['Athletics Ontario'], ['Am4teens'], ['Ask An Undergrad'], ['Athletics Ontario']], 'phone number': [['416-669-1587'], ['905-531-0695'], ['647-636-3667'], ['416-669-1587']], 'email': [['volunteer@athleticsontario.ca'], ['eimaan@am4teens.org'], ['askanundergrad@gmail.com'], ['volunteer@athleticsontario.ca']], 'website': [['https://athleticsontario.ca/'], ['https://www.am4teens.org/'], ['https://www.askanundergrad.com/'], ['https://athleticsontario.ca/']]})\n"
          ]
        }
      ]
    },
    {
      "cell_type": "code",
      "source": [
        "import pandas as pd"
      ],
      "metadata": {
        "id": "Asm0P3chv6A6"
      },
      "execution_count": 29,
      "outputs": []
    },
    {
      "cell_type": "code",
      "source": [
        "new=pd.DataFrame.from_dict(dd)\n",
        "new.head()"
      ],
      "metadata": {
        "colab": {
          "base_uri": "https://localhost:8080/",
          "height": 175
        },
        "id": "7l7lTGLPwANp",
        "outputId": "5b2a7335-a585-4949-e21f-6f8c633f9e35"
      },
      "execution_count": 30,
      "outputs": [
        {
          "output_type": "execute_result",
          "data": {
            "text/plain": [
              "                 title    phone number                            email  \\\n",
              "0  [Athletics Ontario]  [416-669-1587]  [volunteer@athleticsontario.ca]   \n",
              "1           [Am4teens]  [905-531-0695]            [eimaan@am4teens.org]   \n",
              "2   [Ask An Undergrad]  [647-636-3667]       [askanundergrad@gmail.com]   \n",
              "3  [Athletics Ontario]  [416-669-1587]  [volunteer@athleticsontario.ca]   \n",
              "\n",
              "                             website  \n",
              "0     [https://athleticsontario.ca/]  \n",
              "1        [https://www.am4teens.org/]  \n",
              "2  [https://www.askanundergrad.com/]  \n",
              "3     [https://athleticsontario.ca/]  "
            ],
            "text/html": [
              "\n",
              "  <div id=\"df-d4298e29-5263-4fc8-bbeb-1f213b2e9d2b\">\n",
              "    <div class=\"colab-df-container\">\n",
              "      <div>\n",
              "<style scoped>\n",
              "    .dataframe tbody tr th:only-of-type {\n",
              "        vertical-align: middle;\n",
              "    }\n",
              "\n",
              "    .dataframe tbody tr th {\n",
              "        vertical-align: top;\n",
              "    }\n",
              "\n",
              "    .dataframe thead th {\n",
              "        text-align: right;\n",
              "    }\n",
              "</style>\n",
              "<table border=\"1\" class=\"dataframe\">\n",
              "  <thead>\n",
              "    <tr style=\"text-align: right;\">\n",
              "      <th></th>\n",
              "      <th>title</th>\n",
              "      <th>phone number</th>\n",
              "      <th>email</th>\n",
              "      <th>website</th>\n",
              "    </tr>\n",
              "  </thead>\n",
              "  <tbody>\n",
              "    <tr>\n",
              "      <th>0</th>\n",
              "      <td>[Athletics Ontario]</td>\n",
              "      <td>[416-669-1587]</td>\n",
              "      <td>[volunteer@athleticsontario.ca]</td>\n",
              "      <td>[https://athleticsontario.ca/]</td>\n",
              "    </tr>\n",
              "    <tr>\n",
              "      <th>1</th>\n",
              "      <td>[Am4teens]</td>\n",
              "      <td>[905-531-0695]</td>\n",
              "      <td>[eimaan@am4teens.org]</td>\n",
              "      <td>[https://www.am4teens.org/]</td>\n",
              "    </tr>\n",
              "    <tr>\n",
              "      <th>2</th>\n",
              "      <td>[Ask An Undergrad]</td>\n",
              "      <td>[647-636-3667]</td>\n",
              "      <td>[askanundergrad@gmail.com]</td>\n",
              "      <td>[https://www.askanundergrad.com/]</td>\n",
              "    </tr>\n",
              "    <tr>\n",
              "      <th>3</th>\n",
              "      <td>[Athletics Ontario]</td>\n",
              "      <td>[416-669-1587]</td>\n",
              "      <td>[volunteer@athleticsontario.ca]</td>\n",
              "      <td>[https://athleticsontario.ca/]</td>\n",
              "    </tr>\n",
              "  </tbody>\n",
              "</table>\n",
              "</div>\n",
              "      <button class=\"colab-df-convert\" onclick=\"convertToInteractive('df-d4298e29-5263-4fc8-bbeb-1f213b2e9d2b')\"\n",
              "              title=\"Convert this dataframe to an interactive table.\"\n",
              "              style=\"display:none;\">\n",
              "        \n",
              "  <svg xmlns=\"http://www.w3.org/2000/svg\" height=\"24px\"viewBox=\"0 0 24 24\"\n",
              "       width=\"24px\">\n",
              "    <path d=\"M0 0h24v24H0V0z\" fill=\"none\"/>\n",
              "    <path d=\"M18.56 5.44l.94 2.06.94-2.06 2.06-.94-2.06-.94-.94-2.06-.94 2.06-2.06.94zm-11 1L8.5 8.5l.94-2.06 2.06-.94-2.06-.94L8.5 2.5l-.94 2.06-2.06.94zm10 10l.94 2.06.94-2.06 2.06-.94-2.06-.94-.94-2.06-.94 2.06-2.06.94z\"/><path d=\"M17.41 7.96l-1.37-1.37c-.4-.4-.92-.59-1.43-.59-.52 0-1.04.2-1.43.59L10.3 9.45l-7.72 7.72c-.78.78-.78 2.05 0 2.83L4 21.41c.39.39.9.59 1.41.59.51 0 1.02-.2 1.41-.59l7.78-7.78 2.81-2.81c.8-.78.8-2.07 0-2.86zM5.41 20L4 18.59l7.72-7.72 1.47 1.35L5.41 20z\"/>\n",
              "  </svg>\n",
              "      </button>\n",
              "      \n",
              "  <style>\n",
              "    .colab-df-container {\n",
              "      display:flex;\n",
              "      flex-wrap:wrap;\n",
              "      gap: 12px;\n",
              "    }\n",
              "\n",
              "    .colab-df-convert {\n",
              "      background-color: #E8F0FE;\n",
              "      border: none;\n",
              "      border-radius: 50%;\n",
              "      cursor: pointer;\n",
              "      display: none;\n",
              "      fill: #1967D2;\n",
              "      height: 32px;\n",
              "      padding: 0 0 0 0;\n",
              "      width: 32px;\n",
              "    }\n",
              "\n",
              "    .colab-df-convert:hover {\n",
              "      background-color: #E2EBFA;\n",
              "      box-shadow: 0px 1px 2px rgba(60, 64, 67, 0.3), 0px 1px 3px 1px rgba(60, 64, 67, 0.15);\n",
              "      fill: #174EA6;\n",
              "    }\n",
              "\n",
              "    [theme=dark] .colab-df-convert {\n",
              "      background-color: #3B4455;\n",
              "      fill: #D2E3FC;\n",
              "    }\n",
              "\n",
              "    [theme=dark] .colab-df-convert:hover {\n",
              "      background-color: #434B5C;\n",
              "      box-shadow: 0px 1px 3px 1px rgba(0, 0, 0, 0.15);\n",
              "      filter: drop-shadow(0px 1px 2px rgba(0, 0, 0, 0.3));\n",
              "      fill: #FFFFFF;\n",
              "    }\n",
              "  </style>\n",
              "\n",
              "      <script>\n",
              "        const buttonEl =\n",
              "          document.querySelector('#df-d4298e29-5263-4fc8-bbeb-1f213b2e9d2b button.colab-df-convert');\n",
              "        buttonEl.style.display =\n",
              "          google.colab.kernel.accessAllowed ? 'block' : 'none';\n",
              "\n",
              "        async function convertToInteractive(key) {\n",
              "          const element = document.querySelector('#df-d4298e29-5263-4fc8-bbeb-1f213b2e9d2b');\n",
              "          const dataTable =\n",
              "            await google.colab.kernel.invokeFunction('convertToInteractive',\n",
              "                                                     [key], {});\n",
              "          if (!dataTable) return;\n",
              "\n",
              "          const docLinkHtml = 'Like what you see? Visit the ' +\n",
              "            '<a target=\"_blank\" href=https://colab.research.google.com/notebooks/data_table.ipynb>data table notebook</a>'\n",
              "            + ' to learn more about interactive tables.';\n",
              "          element.innerHTML = '';\n",
              "          dataTable['output_type'] = 'display_data';\n",
              "          await google.colab.output.renderOutput(dataTable, element);\n",
              "          const docLink = document.createElement('div');\n",
              "          docLink.innerHTML = docLinkHtml;\n",
              "          element.appendChild(docLink);\n",
              "        }\n",
              "      </script>\n",
              "    </div>\n",
              "  </div>\n",
              "  "
            ]
          },
          "metadata": {},
          "execution_count": 30
        }
      ]
    },
    {
      "cell_type": "code",
      "source": [
        ""
      ],
      "metadata": {
        "id": "aS3jl3bpxG48"
      },
      "execution_count": null,
      "outputs": []
    }
  ]
}